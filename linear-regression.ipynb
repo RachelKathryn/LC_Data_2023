{
    "cells": [
        {
            "cell_type": "markdown",
            "metadata": {
                "azdata_cell_guid": "06246ed1-1d4c-4f2b-b435-6f10a8cc0b32"
            },
            "source": [
                "# Exercises: Linear Regression\n",
                "\n",
                "Before getting started with coding, read through this [article](https://towardsdatascience.com/simple-linear-regression-model-using-python-machine-learning-eab7924d18b4) and follow the instructions within the article to download the dataset.\n",
                "\n",
                "Use this notebook to code along with the article.\n",
                "\n",
                "## Getting Started\n",
                "\n",
                "Import the libraries you need to start working with the dataset and make a dataframe out of the CSV in the dataset."
            ]
        },
        {
            "cell_type": "code",
            "execution_count": 29,
            "metadata": {
                "azdata_cell_guid": "588e3c93-98de-4b65-96e6-7d484d6ab700"
            },
            "outputs": [
                {
                    "data": {
                        "text/html": [
                            "<div>\n",
                            "<style scoped>\n",
                            "    .dataframe tbody tr th:only-of-type {\n",
                            "        vertical-align: middle;\n",
                            "    }\n",
                            "\n",
                            "    .dataframe tbody tr th {\n",
                            "        vertical-align: top;\n",
                            "    }\n",
                            "\n",
                            "    .dataframe thead th {\n",
                            "        text-align: right;\n",
                            "    }\n",
                            "</style>\n",
                            "<table border=\"1\" class=\"dataframe\">\n",
                            "  <thead>\n",
                            "    <tr style=\"text-align: right;\">\n",
                            "      <th></th>\n",
                            "      <th>TV</th>\n",
                            "      <th>Radio</th>\n",
                            "      <th>Newspaper</th>\n",
                            "      <th>Sales</th>\n",
                            "    </tr>\n",
                            "  </thead>\n",
                            "  <tbody>\n",
                            "    <tr>\n",
                            "      <th>0</th>\n",
                            "      <td>230.1</td>\n",
                            "      <td>37.8</td>\n",
                            "      <td>69.2</td>\n",
                            "      <td>22.1</td>\n",
                            "    </tr>\n",
                            "    <tr>\n",
                            "      <th>1</th>\n",
                            "      <td>44.5</td>\n",
                            "      <td>39.3</td>\n",
                            "      <td>45.1</td>\n",
                            "      <td>10.4</td>\n",
                            "    </tr>\n",
                            "    <tr>\n",
                            "      <th>2</th>\n",
                            "      <td>17.2</td>\n",
                            "      <td>45.9</td>\n",
                            "      <td>69.3</td>\n",
                            "      <td>12.0</td>\n",
                            "    </tr>\n",
                            "    <tr>\n",
                            "      <th>3</th>\n",
                            "      <td>151.5</td>\n",
                            "      <td>41.3</td>\n",
                            "      <td>58.5</td>\n",
                            "      <td>16.5</td>\n",
                            "    </tr>\n",
                            "    <tr>\n",
                            "      <th>4</th>\n",
                            "      <td>180.8</td>\n",
                            "      <td>10.8</td>\n",
                            "      <td>58.4</td>\n",
                            "      <td>17.9</td>\n",
                            "    </tr>\n",
                            "  </tbody>\n",
                            "</table>\n",
                            "</div>"
                        ],
                        "text/plain": [
                            "      TV  Radio  Newspaper  Sales\n",
                            "0  230.1   37.8       69.2   22.1\n",
                            "1   44.5   39.3       45.1   10.4\n",
                            "2   17.2   45.9       69.3   12.0\n",
                            "3  151.5   41.3       58.5   16.5\n",
                            "4  180.8   10.8       58.4   17.9"
                        ]
                    },
                    "execution_count": 29,
                    "metadata": {},
                    "output_type": "execute_result"
                }
            ],
            "source": [
                "import numpy as np \n",
                "import pandas as pd\n",
                "df= pd.read_csv(\"Company_data.csv\")\n",
                "df.head()"
            ]
        },
        {
            "cell_type": "markdown",
            "metadata": {
                "azdata_cell_guid": "eadfb479-2f97-43d8-84a3-1c405de8c78f"
            },
            "source": [
                "Run `shape()`, `info()`, and `describe()` to see what is going on with the dataset."
            ]
        },
        {
            "cell_type": "code",
            "execution_count": 30,
            "metadata": {
                "azdata_cell_guid": "dc164354-50ff-4f84-be05-06c687d8ce47"
            },
            "outputs": [
                {
                    "name": "stdout",
                    "output_type": "stream",
                    "text": [
                        "SHAPE:\n",
                        "(200, 4)\n",
                        "===\n",
                        "INFO:\n",
                        "<class 'pandas.core.frame.DataFrame'>\n",
                        "RangeIndex: 200 entries, 0 to 199\n",
                        "Data columns (total 4 columns):\n",
                        " #   Column     Non-Null Count  Dtype  \n",
                        "---  ------     --------------  -----  \n",
                        " 0   TV         200 non-null    float64\n",
                        " 1   Radio      200 non-null    float64\n",
                        " 2   Newspaper  200 non-null    float64\n",
                        " 3   Sales      200 non-null    float64\n",
                        "dtypes: float64(4)\n",
                        "memory usage: 6.4 KB\n",
                        "None\n",
                        "===\n",
                        "DESCRIBE\n",
                        "               TV       Radio   Newspaper       Sales\n",
                        "count  200.000000  200.000000  200.000000  200.000000\n",
                        "mean   147.042500   23.264000   30.554000   15.130500\n",
                        "std     85.854236   14.846809   21.778621    5.283892\n",
                        "min      0.700000    0.000000    0.300000    1.600000\n",
                        "25%     74.375000    9.975000   12.750000   11.000000\n",
                        "50%    149.750000   22.900000   25.750000   16.000000\n",
                        "75%    218.825000   36.525000   45.100000   19.050000\n",
                        "max    296.400000   49.600000  114.000000   27.000000\n"
                    ]
                }
            ],
            "source": [
                "print(\"SHAPE:\")\n",
                "print(df.shape)\n",
                "print(\"===\")\n",
                "print(\"INFO:\")\n",
                "print(df.info())\n",
                "print(\"===\")\n",
                "print(\"DESCRIBE\")\n",
                "print(df.describe())"
            ]
        },
        {
            "attachments": {},
            "cell_type": "markdown",
            "metadata": {
                "azdata_cell_guid": "bdaf3901-a0ff-402f-a28f-f38a0f4cf174"
            },
            "source": [
                "## Visualizing Data\n",
                "\n",
                "Import the necessary libraries to make the same pairplots as the author. Pairplots are used by analysts to see any relationships that may exist between the x- and y-variables."
            ]
        },
        {
            "cell_type": "code",
            "execution_count": 31,
            "metadata": {
                "azdata_cell_guid": "b89163f2-d3af-489a-96d0-02d9bbf9c0c2"
            },
            "outputs": [],
            "source": [
                "import matplotlib.pyplot as plt\n",
                "import seaborn as sns"
            ]
        },
        {
            "cell_type": "code",
            "execution_count": 32,
            "metadata": {},
            "outputs": [
                {
                    "name": "stderr",
                    "output_type": "stream",
                    "text": [
                        "c:\\Users\\kelly\\Anaconda3\\envs\\PythonData\\lib\\site-packages\\seaborn\\axisgrid.py:1969: UserWarning: The `size` parameter has been renamed to `height`; please update your code.\n",
                        "  warnings.warn(msg, UserWarning)\n"
                    ]
                },
                {
                    "data": {
                        "image/png": "[encoded data removed]",
                        "text/plain": [
                            "<Figure size 864x288 with 3 Axes>"
                        ]
                    },
                    "metadata": {
                        "needs_background": "light"
                    },
                    "output_type": "display_data"
                }
            ],
            "source": [
                "sns.pairplot(df, x_vars=['TV', 'Radio', 'Newspaper'],\n",
                "                y_vars='Sales', size=4,aspect=1, kind='scatter')\n",
                "plt.show()\n",
                "\n",
                "#Other \"kind\" values\n",
                "    #kde\n",
                "    #hist\n",
                "    #reg"
            ]
        },
        {
            "attachments": {},
            "cell_type": "markdown",
            "metadata": {
                "azdata_cell_guid": "96c6e651-137f-40e5-b09b-be10d861aaf1"
            },
            "source": [
                "Try out the heatmap next!"
            ]
        },
        {
            "cell_type": "code",
            "execution_count": 33,
            "metadata": {
                "azdata_cell_guid": "cef86579-2a7a-4c6a-a070-371efa05d423"
            },
            "outputs": [
                {
                    "data": {
                        "image/png": "[encoded data removed]",
                        "text/plain": [
                            "<Figure size 432x288 with 2 Axes>"
                        ]
                    },
                    "metadata": {
                        "needs_background": "light"
                    },
                    "output_type": "display_data"
                }
            ],
            "source": [
                "sns.heatmap(df.corr(), cmap=\"YlGnBu\", annot = True)\n",
                "plt.show()\n",
                "\n",
                "#Other color maps\n",
                "    #YlGnBu = yellow/greeen/blue\n",
                "    #Blues\n",
                "    #BuPu - blue/purple\n",
                "    #Greens"
            ]
        },
        {
            "cell_type": "markdown",
            "metadata": {
                "azdata_cell_guid": "d7423f95-2aab-4e7c-bf51-569e53d49ff7"
            },
            "source": [
                "## Time for Linear Regression\n",
                "\n",
                "Follow the four steps in the article to perform linear regression."
            ]
        },
        {
            "cell_type": "code",
            "execution_count": 34,
            "metadata": {
                "azdata_cell_guid": "6fb79277-18fd-4e28-90d3-c02c3854a31e"
            },
            "outputs": [],
            "source": [
                "# Step 1 is to assign your x and y\n",
                "X=df['TV']\n",
                "y=df['Sales']\n",
                "\n"
            ]
        },
        {
            "cell_type": "code",
            "execution_count": 35,
            "metadata": {
                "azdata_cell_guid": "3b0f56d5-8ea9-4605-b90d-dc6989699339"
            },
            "outputs": [],
            "source": [
                "# Step 2 is to create your train and test sets\n",
                "from sklearn.model_selection import train_test_split\n",
                "X_train, X_test, y_train, y_test = train_test_split(X, y, train_size = 0.7,\n",
                "                                                            test_size = 0.3, random_state = 100)"
            ]
        },
        {
            "cell_type": "code",
            "execution_count": 36,
            "metadata": {},
            "outputs": [
                {
                    "data": {
                        "text/plain": [
                            "74     213.4\n",
                            "3      151.5\n",
                            "185    205.0\n",
                            "26     142.9\n",
                            "90     134.3\n",
                            "Name: TV, dtype: float64"
                        ]
                    },
                    "execution_count": 36,
                    "metadata": {},
                    "output_type": "execute_result"
                }
            ],
            "source": [
                "X_train.head()"
            ]
        },
        {
            "cell_type": "code",
            "execution_count": 37,
            "metadata": {},
            "outputs": [
                {
                    "data": {
                        "text/plain": [
                            "74     17.0\n",
                            "3      16.5\n",
                            "185    22.6\n",
                            "26     15.0\n",
                            "90     14.0\n",
                            "Name: Sales, dtype: float64"
                        ]
                    },
                    "execution_count": 37,
                    "metadata": {},
                    "output_type": "execute_result"
                }
            ],
            "source": [
                "y_train.head()"
            ]
        },
        {
            "cell_type": "code",
            "execution_count": 38,
            "metadata": {},
            "outputs": [
                {
                    "data": {
                        "text/plain": [
                            "126      7.8\n",
                            "104    238.2\n",
                            "99     135.2\n",
                            "92     217.7\n",
                            "111    241.7\n",
                            "Name: TV, dtype: float64"
                        ]
                    },
                    "execution_count": 38,
                    "metadata": {},
                    "output_type": "execute_result"
                }
            ],
            "source": [
                "X_test.head()"
            ]
        },
        {
            "cell_type": "code",
            "execution_count": 43,
            "metadata": {
                "azdata_cell_guid": "09559580-dc0f-45c7-a5c8-f986df8910fb"
            },
            "outputs": [
                {
                    "data": {
                        "text/plain": [
                            "const    6.948683\n",
                            "TV       0.054546\n",
                            "dtype: float64"
                        ]
                    },
                    "execution_count": 43,
                    "metadata": {},
                    "output_type": "execute_result"
                }
            ],
            "source": [
                "# Step 3 is to build the model. Remember to import any libraries you may need\n",
                "import statsmodels.api as sm\n",
                "\n",
                "#adding a constant to get an intercept\n",
                "X_train_sm = sm.add_constant(X_train)\n",
                "\n",
                "#fitting the regression line using 'OLS' regression function - model now lives in the variable 'lr'\n",
                "lr = sm.OLS(y_train, X_train_sm).fit()\n",
                "\n",
                "#printing the parameters\n",
                "lr.params\n"
            ]
        },
        {
            "cell_type": "code",
            "execution_count": 52,
            "metadata": {
                "azdata_cell_guid": "90e855fc-8940-4360-a957-a9793b3d25a3"
            },
            "outputs": [
                {
                    "name": "stderr",
                    "output_type": "stream",
                    "text": [
                        "c:\\Users\\kelly\\Anaconda3\\envs\\PythonData\\lib\\site-packages\\seaborn\\distributions.py:2557: FutureWarning: `distplot` is a deprecated function and will be removed in a future version. Please adapt your code to use either `displot` (a figure-level function with similar flexibility) or `histplot` (an axes-level function for histograms).\n",
                        "  warnings.warn(msg, FutureWarning)\n"
                    ]
                },
                {
                    "data": {
                        "image/png": "[encoded data removed]",
                        "text/plain": [
                            "<Figure size 432x288 with 1 Axes>"
                        ]
                    },
                    "metadata": {
                        "needs_background": "light"
                    },
                    "output_type": "display_data"
                }
            ],
            "source": [
                "# Step 4 is to perform residual analysis\n",
                "\n",
                "#Predicting y_value using training data of X\n",
                "y_train_pred = lr.predict(X_train_sm)\n",
                "\n",
                "#Creating residuals from the y_train data and predicted y_data\n",
                "res = (y_train - y_train_pred)\n",
                "\n",
                "#plot data\n",
                "fig = plt.figure()\n",
                "sns.distplot(res, bins = 15)\n",
                "plt.title('Error Terms', fontsize = 15)\n",
                "plt.xlabel('y_train - y_train_pred', fontsize = 15)\n",
                "plt.show()"
            ]
        },
        {
            "cell_type": "code",
            "execution_count": 53,
            "metadata": {},
            "outputs": [
                {
                    "data": {
                        "image/png": "[encoded data removed]",
                        "text/plain": [
                            "<Figure size 432x288 with 1 Axes>"
                        ]
                    },
                    "metadata": {
                        "needs_background": "light"
                    },
                    "output_type": "display_data"
                }
            ],
            "source": [
                "#Looking for any patterns in the residuals\n",
                "plt.scatter(X_train, res)\n",
                "plt.show()"
            ]
        },
        {
            "cell_type": "markdown",
            "metadata": {
                "azdata_cell_guid": "facc5744-17a8-4bc4-b9af-72be8f57a0d3"
            },
            "source": [
                "## Evaluate Your Model\n",
                "\n",
                "Use your model to make some predictions on the test data."
            ]
        },
        {
            "cell_type": "code",
            "execution_count": null,
            "metadata": {
                "azdata_cell_guid": "69e1ea05-521b-4836-8c4b-7f5f312f19b8"
            },
            "outputs": [],
            "source": []
        },
        {
            "cell_type": "markdown",
            "metadata": {
                "azdata_cell_guid": "d5dcb353-c9bb-4287-b32c-a0d07fa90e7e"
            },
            "source": [
                "## Summarize Your Results\n",
                "\n",
                "Make note of your answers to each of the following questions by editing the cell.\n",
                "\n",
                "1. Did you get the same coefficients and p-values as the author?\n",
                "2. Did you get the same R-squared values as the author?\n",
                "3. Did you get the same F-statistic value and significance as the author?"
            ]
        }
    ],
    "metadata": {
        "kernelspec": {
            "display_name": "Python 3",
            "language": "python",
            "name": "python3"
        },
        "language_info": {
            "codemirror_mode": {
                "name": "ipython",
                "version": 3
            },
            "file_extension": ".py",
            "mimetype": "text/x-python",
            "name": "python",
            "nbconvert_exporter": "python",
            "pygments_lexer": "ipython3",
            "version": "3.6.10"
        }
    },
    "nbformat": 4,
    "nbformat_minor": 2
}
